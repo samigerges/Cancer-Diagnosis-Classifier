{
 "cells": [
  {
   "cell_type": "code",
   "execution_count": 1,
   "metadata": {},
   "outputs": [],
   "source": [
    "import numpy as np\n",
    "import pandas as pd\n",
    "import matplotlib.pyplot as plt\n",
    "from sklearn.model_selection import train_test_split\n",
    "from collections import Counter"
   ]
  },
  {
   "cell_type": "code",
   "execution_count": 4,
   "metadata": {
    "execution": {
     "iopub.execute_input": "2024-05-18T14:11:45.576093Z",
     "iopub.status.busy": "2024-05-18T14:11:45.575711Z",
     "iopub.status.idle": "2024-05-18T14:11:45.585419Z",
     "shell.execute_reply": "2024-05-18T14:11:45.584216Z",
     "shell.execute_reply.started": "2024-05-18T14:11:45.576065Z"
    }
   },
   "outputs": [],
   "source": [
    "class PCA:\n",
    "    def __init__(self, n_components):\n",
    "        self.n_components = n_components\n",
    "        self.components = None\n",
    "        self.mean = None\n",
    "\n",
    "    def fit(self, X):\n",
    "        # Compute mean of the data\n",
    "        self.mean = np.mean(X, axis=0)\n",
    "        \n",
    "        # Center the data\n",
    "        X = X - self.mean\n",
    "        \n",
    "        # Compute covariance matrix\n",
    "        cov_matrix = np.cov(X.T)\n",
    "        \n",
    "        # Perform eigendecomposition\n",
    "        eigenvalues, eigenvectors = np.linalg.eig(cov_matrix)\n",
    "        \n",
    "        # Sort eigenvectors based on eigenvalues\n",
    "        eigenvectors = eigenvectors.T\n",
    "        idxs = np.argsort(eigenvalues)[::-1]\n",
    "        eigenvectors = eigenvectors[idxs]\n",
    "        \n",
    "        # Store the first n_components components\n",
    "        self.components = eigenvectors[0:self.n_components]\n",
    "\n",
    "    def transform(self, X):\n",
    "        # Center the data\n",
    "        X = X - self.mean\n",
    "        \n",
    "        # Project the data onto the principal components\n",
    "        return np.dot(X, self.components.T)"
   ]
  },
  {
   "cell_type": "code",
   "execution_count": 37,
   "metadata": {
    "execution": {
     "iopub.execute_input": "2024-05-21T12:27:40.429154Z",
     "iopub.status.busy": "2024-05-21T12:27:40.428752Z",
     "iopub.status.idle": "2024-05-21T12:27:40.440291Z",
     "shell.execute_reply": "2024-05-21T12:27:40.439144Z",
     "shell.execute_reply.started": "2024-05-21T12:27:40.429123Z"
    }
   },
   "outputs": [],
   "source": [
    "class LDA:\n",
    "    def __init__(self, n_components=None):\n",
    "        self.n_components = n_components\n",
    "        self.eigenvalues = None\n",
    "        self.eigenvectors = None\n",
    "\n",
    "    def fit(self, X, y):\n",
    "        n_features = X.shape[1]\n",
    "        classes = np.unique(y)\n",
    "        n_classes = len(classes)\n",
    "        \n",
    "        mean_overall = np.mean(X, axis=0)\n",
    "        within_class_scatter = np.zeros((n_features, n_features))\n",
    "        between_class_scatter = np.zeros((n_features, n_features))\n",
    "\n",
    "        for c in classes:\n",
    "            X_class = X[y == c]\n",
    "            mean_class = np.mean(X_class, axis=0)\n",
    "            mean_diff = (mean_class - mean_overall).reshape(-1, 1)\n",
    "            within_class_scatter += np.dot((X_class - mean_class).T, X_class - mean_class)\n",
    "            between_class_scatter += X_class.shape[0] * np.dot(mean_diff, mean_diff.T)\n",
    "\n",
    "        eigenvalues, eigenvectors = np.linalg.eig(np.linalg.inv(within_class_scatter).dot(between_class_scatter))\n",
    "        eigenvectors = eigenvectors[:, np.argsort(eigenvalues)[::-1]]\n",
    "        eigenvalues = eigenvalues[np.argsort(eigenvalues)[::-1]]\n",
    "\n",
    "        self.eigenvalues = eigenvalues[:self.n_components]\n",
    "        self.eigenvectors = eigenvectors[:, :self.n_components]\n",
    "\n",
    "    def transform(self, X):\n",
    "        return np.dot(X, np.real(self.eigenvectors))\n",
    "\n",
    "    def fit_transform(self, X, y):\n",
    "        self.fit(X, y)\n",
    "        return self.transform(X)\n"
   ]
  },
  {
   "cell_type": "code",
   "execution_count": 4,
   "metadata": {
    "execution": {
     "iopub.execute_input": "2024-05-21T12:07:36.285510Z",
     "iopub.status.busy": "2024-05-21T12:07:36.284708Z",
     "iopub.status.idle": "2024-05-21T12:07:36.292064Z",
     "shell.execute_reply": "2024-05-21T12:07:36.290773Z",
     "shell.execute_reply.started": "2024-05-21T12:07:36.285441Z"
    }
   },
   "outputs": [],
   "source": [
    "def train_test_split(X, y, split_ratio=0.7, random_state=None):\n",
    "    if random_state:\n",
    "        np.random.seed(random_state)\n",
    "    \n",
    "    # Shuffle the dataset\n",
    "    shuffle_idx = np.random.permutation(len(X))\n",
    "    X = X[shuffle_idx]\n",
    "    y = y[shuffle_idx]\n",
    "    \n",
    "    # Split the dataset into training and testing sets\n",
    "    split_idx = int(len(X) * split_ratio)\n",
    "    X_train, X_test = X[:split_idx], X[split_idx:]\n",
    "    y_train, y_test = y[:split_idx], y[split_idx:]\n",
    "    \n",
    "    return X_train, X_test, y_train, y_test\n"
   ]
  },
  {
   "cell_type": "code",
   "execution_count": 5,
   "metadata": {
    "execution": {
     "iopub.execute_input": "2024-05-21T12:07:38.500007Z",
     "iopub.status.busy": "2024-05-21T12:07:38.499600Z",
     "iopub.status.idle": "2024-05-21T12:07:38.510694Z",
     "shell.execute_reply": "2024-05-21T12:07:38.509378Z",
     "shell.execute_reply.started": "2024-05-21T12:07:38.499977Z"
    }
   },
   "outputs": [],
   "source": [
    "class LogisticRegression:\n",
    "    def __init__(self, learning_rate=0.01, num_iterations=1000):\n",
    "        self.learning_rate = learning_rate\n",
    "        self.num_iterations = num_iterations\n",
    "        self.weights = None\n",
    "        self.bias = None\n",
    "    \n",
    "    def sigmoid(self, z):\n",
    "        return 1 / (1 + np.exp(-z))\n",
    "\n",
    "    def initialize_weights(self, num_features):\n",
    "        # Initialize weights for features and bias separately\n",
    "        np.random.seed(42)\n",
    "        self.weights = np.random.rand(num_features)\n",
    "        self.bias = np.random.rand()\n",
    "\n",
    "    def fit(self, X, y):\n",
    "        num_samples, num_features = X.shape\n",
    "        self.initialize_weights(num_features)  # Initialize weights and bias\n",
    "        \n",
    "        for _ in range(self.num_iterations):\n",
    "            predictions = self._predict(X)\n",
    "            error = y - predictions\n",
    "            gradient_weights = np.dot(X.T, error) / num_samples  # Gradient for weights \n",
    "            gradient_bias = np.mean(error)  # Gradient for bias\n",
    "            \n",
    "            # Update weights and bias\n",
    "            self.weights += self.learning_rate * gradient_weights\n",
    "            self.bias += self.learning_rate * gradient_bias\n",
    "    \n",
    "    def _predict(self, X):\n",
    "        return self.sigmoid(np.dot(X, self.weights) + self.bias)\n",
    "\n",
    "    def predict(self, X, threshold=0.5):\n",
    "        predictions = self._predict(X)\n",
    "        return np.where(predictions >= threshold, 1, 0)\n",
    "\n",
    "    def accuracy_score(self, y_true, y_pred):\n",
    "        return np.mean(y_true == y_pred)\n"
   ]
  },
  {
   "cell_type": "code",
   "execution_count": 6,
   "metadata": {
    "execution": {
     "iopub.execute_input": "2024-05-21T12:07:39.809683Z",
     "iopub.status.busy": "2024-05-21T12:07:39.809202Z",
     "iopub.status.idle": "2024-05-21T12:07:39.817708Z",
     "shell.execute_reply": "2024-05-21T12:07:39.816584Z",
     "shell.execute_reply.started": "2024-05-21T12:07:39.809643Z"
    }
   },
   "outputs": [],
   "source": [
    "class KNearestNeighbors:\n",
    "    def __init__(self, k=3):\n",
    "        self.k = k\n",
    "\n",
    "    def fit(self, X_train, y_train):\n",
    "        self.X_train = X_train\n",
    "        self.y_train = y_train\n",
    "\n",
    "    def predict(self, X_test):\n",
    "        predictions = [self._predict(x) for x in X_test]\n",
    "        return np.array(predictions)\n",
    "\n",
    "    def _predict(self, x):\n",
    "        # Compute the distances between x and all examples in the training set\n",
    "        distances = [self._euclidean_distance(x, x_train) for x_train in self.X_train]\n",
    "        # Sort by distance and return indices of the first k neighbors\n",
    "        k_indices = np.argsort(distances)[:self.k]\n",
    "        # Extract the labels of the k nearest neighbor training samples\n",
    "        k_nearest_labels = [self.y_train[i] for i in k_indices]\n",
    "        # Return the most common class label\n",
    "        most_common = Counter(k_nearest_labels).most_common(1)\n",
    "        return most_common[0][0]\n",
    "\n",
    "    def _euclidean_distance(self, x1, x2):\n",
    "        return np.sqrt(np.sum((x1 - x2) ** 2))"
   ]
  },
  {
   "cell_type": "code",
   "execution_count": 74,
   "metadata": {
    "execution": {
     "iopub.execute_input": "2024-05-18T15:08:50.213496Z",
     "iopub.status.busy": "2024-05-18T15:08:50.213127Z",
     "iopub.status.idle": "2024-05-18T15:08:50.229050Z",
     "shell.execute_reply": "2024-05-18T15:08:50.227891Z",
     "shell.execute_reply.started": "2024-05-18T15:08:50.213469Z"
    }
   },
   "outputs": [],
   "source": [
    "class GeneticAlgorithmFeatureSelection:\n",
    "    def __init__(self, X_train, X_test, y_train, y_test, classifier, population_size=10, num_generations=10, mutation_rate=0.05):\n",
    "        self.X_train = X_train\n",
    "        self.X_test = X_test\n",
    "        self.y_train = y_train\n",
    "        self.y_test = y_test\n",
    "        self.classifier = classifier  # Store the classifier instance\n",
    "        self.population_size = population_size\n",
    "        self.num_generations = num_generations\n",
    "        self.mutation_rate = mutation_rate\n",
    "        self.population = None\n",
    "        self.fitness_scores = None\n",
    "\n",
    "    def initialize_population(self):\n",
    "        self.population = np.random.randint(2, size=(self.population_size, self.X_train.shape[1]))\n",
    "\n",
    "    def fitness(self, features):\n",
    "        # Selecting the features that are marked as 1 (i.e., used for the model)\n",
    "        feature_indices = np.where(features == 1)[0]\n",
    "        if len(feature_indices) == 0:  # Avoid training a model with no features\n",
    "            return 0\n",
    "        X_train_subset = self.X_train[:, feature_indices]\n",
    "        X_test_subset = self.X_test[:, feature_indices]\n",
    "        self.classifier.fit(X_train_subset, self.y_train)\n",
    "        y_pred = self.classifier.predict(X_test_subset)\n",
    "\n",
    "        return np.mean(y_pred == self.y_test)\n",
    "\n",
    "    def evaluate_population(self):\n",
    "        self.fitness_scores = [self.fitness(individual) for individual in self.population]\n",
    "\n",
    "    def select_parents(self):\n",
    "        parent_indices = np.random.choice(self.population_size, size=self.population_size, replace=True,\n",
    "                                          p=self.fitness_scores / np.sum(self.fitness_scores))\n",
    "        return self.population[parent_indices]\n",
    "\n",
    "    def crossover(self, parents):\n",
    "        children = np.empty_like(parents)\n",
    "        for i in range(self.population_size):\n",
    "            parent1 = parents[i]\n",
    "            parent2 = parents[np.random.randint(self.population_size)]\n",
    "            crossover_point = np.random.randint(1, self.X_train.shape[1] - 1)\n",
    "            children[i] = np.concatenate((parent1[:crossover_point], parent2[crossover_point:]))\n",
    "        return children\n",
    "\n",
    "    def mutate(self, children):\n",
    "        for i in range(self.population_size):\n",
    "            if np.random.rand() < self.mutation_rate:\n",
    "                mutation_point = np.random.randint(self.X_train.shape[1])\n",
    "                children[i, mutation_point] = 1 - children[i, mutation_point]\n",
    "        return children\n",
    "\n",
    "    def fit(self):\n",
    "        self.initialize_population()\n",
    "        self.evaluate_population()\n",
    "\n",
    "        for generation in range(self.num_generations):\n",
    "            parents = self.select_parents()\n",
    "            children = self.crossover(parents)\n",
    "            mutated_children = self.mutate(children)\n",
    "            self.population = mutated_children\n",
    "            self.evaluate_population()\n",
    "\n",
    "        best_features = self.population[np.argmax(self.fitness_scores)]\n",
    "        return best_features\n"
   ]
  },
  {
   "cell_type": "code",
   "execution_count": 7,
   "metadata": {
    "execution": {
     "iopub.execute_input": "2024-05-21T12:07:43.906430Z",
     "iopub.status.busy": "2024-05-21T12:07:43.905540Z",
     "iopub.status.idle": "2024-05-21T12:07:43.977086Z",
     "shell.execute_reply": "2024-05-21T12:07:43.975937Z",
     "shell.execute_reply.started": "2024-05-21T12:07:43.906384Z"
    }
   },
   "outputs": [
    {
     "data": {
      "text/html": [
       "<div>\n",
       "<style scoped>\n",
       "    .dataframe tbody tr th:only-of-type {\n",
       "        vertical-align: middle;\n",
       "    }\n",
       "\n",
       "    .dataframe tbody tr th {\n",
       "        vertical-align: top;\n",
       "    }\n",
       "\n",
       "    .dataframe thead th {\n",
       "        text-align: right;\n",
       "    }\n",
       "</style>\n",
       "<table border=\"1\" class=\"dataframe\">\n",
       "  <thead>\n",
       "    <tr style=\"text-align: right;\">\n",
       "      <th></th>\n",
       "      <th>id</th>\n",
       "      <th>diagnosis</th>\n",
       "      <th>radius_mean</th>\n",
       "      <th>texture_mean</th>\n",
       "      <th>perimeter_mean</th>\n",
       "      <th>area_mean</th>\n",
       "      <th>smoothness_mean</th>\n",
       "      <th>compactness_mean</th>\n",
       "      <th>concavity_mean</th>\n",
       "      <th>concave points_mean</th>\n",
       "      <th>symmetry_mean</th>\n",
       "      <th>fractal_dimension_mean</th>\n",
       "      <th>radius_se</th>\n",
       "      <th>texture_se</th>\n",
       "      <th>perimeter_se</th>\n",
       "      <th>area_se</th>\n",
       "      <th>smoothness_se</th>\n",
       "      <th>compactness_se</th>\n",
       "      <th>concavity_se</th>\n",
       "      <th>concave points_se</th>\n",
       "      <th>symmetry_se</th>\n",
       "      <th>fractal_dimension_se</th>\n",
       "      <th>radius_worst</th>\n",
       "      <th>texture_worst</th>\n",
       "      <th>perimeter_worst</th>\n",
       "      <th>area_worst</th>\n",
       "      <th>smoothness_worst</th>\n",
       "      <th>compactness_worst</th>\n",
       "      <th>concavity_worst</th>\n",
       "      <th>concave points_worst</th>\n",
       "      <th>symmetry_worst</th>\n",
       "      <th>fractal_dimension_worst</th>\n",
       "      <th>Unnamed: 32</th>\n",
       "    </tr>\n",
       "  </thead>\n",
       "  <tbody>\n",
       "    <tr>\n",
       "      <th>0</th>\n",
       "      <td>842302</td>\n",
       "      <td>M</td>\n",
       "      <td>17.99</td>\n",
       "      <td>10.38</td>\n",
       "      <td>122.80</td>\n",
       "      <td>1001.0</td>\n",
       "      <td>0.11840</td>\n",
       "      <td>0.27760</td>\n",
       "      <td>0.3001</td>\n",
       "      <td>0.14710</td>\n",
       "      <td>0.2419</td>\n",
       "      <td>0.07871</td>\n",
       "      <td>1.0950</td>\n",
       "      <td>0.9053</td>\n",
       "      <td>8.589</td>\n",
       "      <td>153.40</td>\n",
       "      <td>0.006399</td>\n",
       "      <td>0.04904</td>\n",
       "      <td>0.05373</td>\n",
       "      <td>0.01587</td>\n",
       "      <td>0.03003</td>\n",
       "      <td>0.006193</td>\n",
       "      <td>25.38</td>\n",
       "      <td>17.33</td>\n",
       "      <td>184.60</td>\n",
       "      <td>2019.0</td>\n",
       "      <td>0.1622</td>\n",
       "      <td>0.6656</td>\n",
       "      <td>0.7119</td>\n",
       "      <td>0.2654</td>\n",
       "      <td>0.4601</td>\n",
       "      <td>0.11890</td>\n",
       "      <td>NaN</td>\n",
       "    </tr>\n",
       "    <tr>\n",
       "      <th>1</th>\n",
       "      <td>842517</td>\n",
       "      <td>M</td>\n",
       "      <td>20.57</td>\n",
       "      <td>17.77</td>\n",
       "      <td>132.90</td>\n",
       "      <td>1326.0</td>\n",
       "      <td>0.08474</td>\n",
       "      <td>0.07864</td>\n",
       "      <td>0.0869</td>\n",
       "      <td>0.07017</td>\n",
       "      <td>0.1812</td>\n",
       "      <td>0.05667</td>\n",
       "      <td>0.5435</td>\n",
       "      <td>0.7339</td>\n",
       "      <td>3.398</td>\n",
       "      <td>74.08</td>\n",
       "      <td>0.005225</td>\n",
       "      <td>0.01308</td>\n",
       "      <td>0.01860</td>\n",
       "      <td>0.01340</td>\n",
       "      <td>0.01389</td>\n",
       "      <td>0.003532</td>\n",
       "      <td>24.99</td>\n",
       "      <td>23.41</td>\n",
       "      <td>158.80</td>\n",
       "      <td>1956.0</td>\n",
       "      <td>0.1238</td>\n",
       "      <td>0.1866</td>\n",
       "      <td>0.2416</td>\n",
       "      <td>0.1860</td>\n",
       "      <td>0.2750</td>\n",
       "      <td>0.08902</td>\n",
       "      <td>NaN</td>\n",
       "    </tr>\n",
       "    <tr>\n",
       "      <th>2</th>\n",
       "      <td>84300903</td>\n",
       "      <td>M</td>\n",
       "      <td>19.69</td>\n",
       "      <td>21.25</td>\n",
       "      <td>130.00</td>\n",
       "      <td>1203.0</td>\n",
       "      <td>0.10960</td>\n",
       "      <td>0.15990</td>\n",
       "      <td>0.1974</td>\n",
       "      <td>0.12790</td>\n",
       "      <td>0.2069</td>\n",
       "      <td>0.05999</td>\n",
       "      <td>0.7456</td>\n",
       "      <td>0.7869</td>\n",
       "      <td>4.585</td>\n",
       "      <td>94.03</td>\n",
       "      <td>0.006150</td>\n",
       "      <td>0.04006</td>\n",
       "      <td>0.03832</td>\n",
       "      <td>0.02058</td>\n",
       "      <td>0.02250</td>\n",
       "      <td>0.004571</td>\n",
       "      <td>23.57</td>\n",
       "      <td>25.53</td>\n",
       "      <td>152.50</td>\n",
       "      <td>1709.0</td>\n",
       "      <td>0.1444</td>\n",
       "      <td>0.4245</td>\n",
       "      <td>0.4504</td>\n",
       "      <td>0.2430</td>\n",
       "      <td>0.3613</td>\n",
       "      <td>0.08758</td>\n",
       "      <td>NaN</td>\n",
       "    </tr>\n",
       "    <tr>\n",
       "      <th>3</th>\n",
       "      <td>84348301</td>\n",
       "      <td>M</td>\n",
       "      <td>11.42</td>\n",
       "      <td>20.38</td>\n",
       "      <td>77.58</td>\n",
       "      <td>386.1</td>\n",
       "      <td>0.14250</td>\n",
       "      <td>0.28390</td>\n",
       "      <td>0.2414</td>\n",
       "      <td>0.10520</td>\n",
       "      <td>0.2597</td>\n",
       "      <td>0.09744</td>\n",
       "      <td>0.4956</td>\n",
       "      <td>1.1560</td>\n",
       "      <td>3.445</td>\n",
       "      <td>27.23</td>\n",
       "      <td>0.009110</td>\n",
       "      <td>0.07458</td>\n",
       "      <td>0.05661</td>\n",
       "      <td>0.01867</td>\n",
       "      <td>0.05963</td>\n",
       "      <td>0.009208</td>\n",
       "      <td>14.91</td>\n",
       "      <td>26.50</td>\n",
       "      <td>98.87</td>\n",
       "      <td>567.7</td>\n",
       "      <td>0.2098</td>\n",
       "      <td>0.8663</td>\n",
       "      <td>0.6869</td>\n",
       "      <td>0.2575</td>\n",
       "      <td>0.6638</td>\n",
       "      <td>0.17300</td>\n",
       "      <td>NaN</td>\n",
       "    </tr>\n",
       "    <tr>\n",
       "      <th>4</th>\n",
       "      <td>84358402</td>\n",
       "      <td>M</td>\n",
       "      <td>20.29</td>\n",
       "      <td>14.34</td>\n",
       "      <td>135.10</td>\n",
       "      <td>1297.0</td>\n",
       "      <td>0.10030</td>\n",
       "      <td>0.13280</td>\n",
       "      <td>0.1980</td>\n",
       "      <td>0.10430</td>\n",
       "      <td>0.1809</td>\n",
       "      <td>0.05883</td>\n",
       "      <td>0.7572</td>\n",
       "      <td>0.7813</td>\n",
       "      <td>5.438</td>\n",
       "      <td>94.44</td>\n",
       "      <td>0.011490</td>\n",
       "      <td>0.02461</td>\n",
       "      <td>0.05688</td>\n",
       "      <td>0.01885</td>\n",
       "      <td>0.01756</td>\n",
       "      <td>0.005115</td>\n",
       "      <td>22.54</td>\n",
       "      <td>16.67</td>\n",
       "      <td>152.20</td>\n",
       "      <td>1575.0</td>\n",
       "      <td>0.1374</td>\n",
       "      <td>0.2050</td>\n",
       "      <td>0.4000</td>\n",
       "      <td>0.1625</td>\n",
       "      <td>0.2364</td>\n",
       "      <td>0.07678</td>\n",
       "      <td>NaN</td>\n",
       "    </tr>\n",
       "  </tbody>\n",
       "</table>\n",
       "</div>"
      ],
      "text/plain": [
       "         id diagnosis  radius_mean  texture_mean  perimeter_mean  area_mean  \\\n",
       "0    842302         M        17.99         10.38          122.80     1001.0   \n",
       "1    842517         M        20.57         17.77          132.90     1326.0   \n",
       "2  84300903         M        19.69         21.25          130.00     1203.0   \n",
       "3  84348301         M        11.42         20.38           77.58      386.1   \n",
       "4  84358402         M        20.29         14.34          135.10     1297.0   \n",
       "\n",
       "   smoothness_mean  compactness_mean  concavity_mean  concave points_mean  \\\n",
       "0          0.11840           0.27760          0.3001              0.14710   \n",
       "1          0.08474           0.07864          0.0869              0.07017   \n",
       "2          0.10960           0.15990          0.1974              0.12790   \n",
       "3          0.14250           0.28390          0.2414              0.10520   \n",
       "4          0.10030           0.13280          0.1980              0.10430   \n",
       "\n",
       "   symmetry_mean  fractal_dimension_mean  radius_se  texture_se  perimeter_se  \\\n",
       "0         0.2419                 0.07871     1.0950      0.9053         8.589   \n",
       "1         0.1812                 0.05667     0.5435      0.7339         3.398   \n",
       "2         0.2069                 0.05999     0.7456      0.7869         4.585   \n",
       "3         0.2597                 0.09744     0.4956      1.1560         3.445   \n",
       "4         0.1809                 0.05883     0.7572      0.7813         5.438   \n",
       "\n",
       "   area_se  smoothness_se  compactness_se  concavity_se  concave points_se  \\\n",
       "0   153.40       0.006399         0.04904       0.05373            0.01587   \n",
       "1    74.08       0.005225         0.01308       0.01860            0.01340   \n",
       "2    94.03       0.006150         0.04006       0.03832            0.02058   \n",
       "3    27.23       0.009110         0.07458       0.05661            0.01867   \n",
       "4    94.44       0.011490         0.02461       0.05688            0.01885   \n",
       "\n",
       "   symmetry_se  fractal_dimension_se  radius_worst  texture_worst  \\\n",
       "0      0.03003              0.006193         25.38          17.33   \n",
       "1      0.01389              0.003532         24.99          23.41   \n",
       "2      0.02250              0.004571         23.57          25.53   \n",
       "3      0.05963              0.009208         14.91          26.50   \n",
       "4      0.01756              0.005115         22.54          16.67   \n",
       "\n",
       "   perimeter_worst  area_worst  smoothness_worst  compactness_worst  \\\n",
       "0           184.60      2019.0            0.1622             0.6656   \n",
       "1           158.80      1956.0            0.1238             0.1866   \n",
       "2           152.50      1709.0            0.1444             0.4245   \n",
       "3            98.87       567.7            0.2098             0.8663   \n",
       "4           152.20      1575.0            0.1374             0.2050   \n",
       "\n",
       "   concavity_worst  concave points_worst  symmetry_worst  \\\n",
       "0           0.7119                0.2654          0.4601   \n",
       "1           0.2416                0.1860          0.2750   \n",
       "2           0.4504                0.2430          0.3613   \n",
       "3           0.6869                0.2575          0.6638   \n",
       "4           0.4000                0.1625          0.2364   \n",
       "\n",
       "   fractal_dimension_worst  Unnamed: 32  \n",
       "0                  0.11890          NaN  \n",
       "1                  0.08902          NaN  \n",
       "2                  0.08758          NaN  \n",
       "3                  0.17300          NaN  \n",
       "4                  0.07678          NaN  "
      ]
     },
     "execution_count": 7,
     "metadata": {},
     "output_type": "execute_result"
    }
   ],
   "source": [
    "df = pd.read_csv(\"/kaggle/input/cancer-data/Cancer_Data.csv\")\n",
    "df.head()"
   ]
  },
  {
   "cell_type": "code",
   "execution_count": 8,
   "metadata": {
    "execution": {
     "iopub.execute_input": "2024-05-21T12:07:46.555536Z",
     "iopub.status.busy": "2024-05-21T12:07:46.555153Z",
     "iopub.status.idle": "2024-05-21T12:07:46.562889Z",
     "shell.execute_reply": "2024-05-21T12:07:46.561678Z",
     "shell.execute_reply.started": "2024-05-21T12:07:46.555507Z"
    }
   },
   "outputs": [
    {
     "data": {
      "text/plain": [
       "(569, 33)"
      ]
     },
     "execution_count": 8,
     "metadata": {},
     "output_type": "execute_result"
    }
   ],
   "source": [
    "df.shape"
   ]
  },
  {
   "cell_type": "code",
   "execution_count": 10,
   "metadata": {
    "execution": {
     "iopub.execute_input": "2024-05-18T14:11:45.713889Z",
     "iopub.status.busy": "2024-05-18T14:11:45.713579Z",
     "iopub.status.idle": "2024-05-18T14:11:45.728491Z",
     "shell.execute_reply": "2024-05-18T14:11:45.727324Z",
     "shell.execute_reply.started": "2024-05-18T14:11:45.713864Z"
    }
   },
   "outputs": [
    {
     "name": "stdout",
     "output_type": "stream",
     "text": [
      "<class 'pandas.core.frame.DataFrame'>\n",
      "RangeIndex: 569 entries, 0 to 568\n",
      "Data columns (total 33 columns):\n",
      " #   Column                   Non-Null Count  Dtype  \n",
      "---  ------                   --------------  -----  \n",
      " 0   id                       569 non-null    int64  \n",
      " 1   diagnosis                569 non-null    object \n",
      " 2   radius_mean              569 non-null    float64\n",
      " 3   texture_mean             569 non-null    float64\n",
      " 4   perimeter_mean           569 non-null    float64\n",
      " 5   area_mean                569 non-null    float64\n",
      " 6   smoothness_mean          569 non-null    float64\n",
      " 7   compactness_mean         569 non-null    float64\n",
      " 8   concavity_mean           569 non-null    float64\n",
      " 9   concave points_mean      569 non-null    float64\n",
      " 10  symmetry_mean            569 non-null    float64\n",
      " 11  fractal_dimension_mean   569 non-null    float64\n",
      " 12  radius_se                569 non-null    float64\n",
      " 13  texture_se               569 non-null    float64\n",
      " 14  perimeter_se             569 non-null    float64\n",
      " 15  area_se                  569 non-null    float64\n",
      " 16  smoothness_se            569 non-null    float64\n",
      " 17  compactness_se           569 non-null    float64\n",
      " 18  concavity_se             569 non-null    float64\n",
      " 19  concave points_se        569 non-null    float64\n",
      " 20  symmetry_se              569 non-null    float64\n",
      " 21  fractal_dimension_se     569 non-null    float64\n",
      " 22  radius_worst             569 non-null    float64\n",
      " 23  texture_worst            569 non-null    float64\n",
      " 24  perimeter_worst          569 non-null    float64\n",
      " 25  area_worst               569 non-null    float64\n",
      " 26  smoothness_worst         569 non-null    float64\n",
      " 27  compactness_worst        569 non-null    float64\n",
      " 28  concavity_worst          569 non-null    float64\n",
      " 29  concave points_worst     569 non-null    float64\n",
      " 30  symmetry_worst           569 non-null    float64\n",
      " 31  fractal_dimension_worst  569 non-null    float64\n",
      " 32  Unnamed: 32              0 non-null      float64\n",
      "dtypes: float64(31), int64(1), object(1)\n",
      "memory usage: 146.8+ KB\n"
     ]
    }
   ],
   "source": [
    "df.info()"
   ]
  },
  {
   "cell_type": "code",
   "execution_count": 9,
   "metadata": {
    "execution": {
     "iopub.execute_input": "2024-05-21T12:07:51.365951Z",
     "iopub.status.busy": "2024-05-21T12:07:51.364987Z",
     "iopub.status.idle": "2024-05-21T12:07:51.375449Z",
     "shell.execute_reply": "2024-05-21T12:07:51.374206Z",
     "shell.execute_reply.started": "2024-05-21T12:07:51.365914Z"
    }
   },
   "outputs": [],
   "source": [
    "df.drop([\"Unnamed: 32\", \"id\"], axis=1, inplace=True)"
   ]
  },
  {
   "cell_type": "code",
   "execution_count": 10,
   "metadata": {
    "execution": {
     "iopub.execute_input": "2024-05-21T12:07:53.100392Z",
     "iopub.status.busy": "2024-05-21T12:07:53.100025Z",
     "iopub.status.idle": "2024-05-21T12:07:53.107611Z",
     "shell.execute_reply": "2024-05-21T12:07:53.106396Z",
     "shell.execute_reply.started": "2024-05-21T12:07:53.100365Z"
    }
   },
   "outputs": [],
   "source": [
    "# separate the data to X and y\n",
    "X = df.drop(\"diagnosis\" , axis =1)\n",
    "y = df[\"diagnosis\"]\n",
    "\n",
    "# Mapping the values in y to 0 and 1\n",
    "y = np.where(y == 'B', 0, 1)"
   ]
  },
  {
   "cell_type": "code",
   "execution_count": 50,
   "metadata": {
    "execution": {
     "iopub.execute_input": "2024-05-18T14:35:41.343495Z",
     "iopub.status.busy": "2024-05-18T14:35:41.343070Z",
     "iopub.status.idle": "2024-05-18T14:35:41.614800Z",
     "shell.execute_reply": "2024-05-18T14:35:41.613539Z",
     "shell.execute_reply.started": "2024-05-18T14:35:41.343463Z"
    }
   },
   "outputs": [
    {
     "name": "stdout",
     "output_type": "stream",
     "text": [
      "0    357\n",
      "1    212\n",
      "Name: count, dtype: int64\n"
     ]
    },
    {
     "data": {
      "text/plain": [
       "<Axes: >"
      ]
     },
     "execution_count": 50,
     "metadata": {},
     "output_type": "execute_result"
    },
    {
     "data": {
      "image/png": "[encoded data removed]",
      "text/plain": [
       "<Figure size 640x480 with 1 Axes>"
      ]
     },
     "metadata": {},
     "output_type": "display_data"
    }
   ],
   "source": [
    "# Count the values of classes\n",
    "y_series = pd.Series(y)\n",
    "print(y_series.value_counts())\n",
    "\n",
    "y_series.hist()"
   ]
  },
  {
   "cell_type": "code",
   "execution_count": 11,
   "metadata": {
    "execution": {
     "iopub.execute_input": "2024-05-21T12:07:58.041664Z",
     "iopub.status.busy": "2024-05-21T12:07:58.041235Z",
     "iopub.status.idle": "2024-05-21T12:07:58.049196Z",
     "shell.execute_reply": "2024-05-21T12:07:58.048043Z",
     "shell.execute_reply.started": "2024-05-21T12:07:58.041609Z"
    }
   },
   "outputs": [],
   "source": [
    "# Split the data to Train set and Test set\n",
    "X = np.array(X)\n",
    "X_train, X_test, y_train, y_test = train_test_split(X, y, split_ratio=0.7, random_state=40)"
   ]
  },
  {
   "cell_type": "markdown",
   "metadata": {},
   "source": [
    "# Apply Logistic Regression and K-Nearest Neighbors on the dataset"
   ]
  },
  {
   "cell_type": "code",
   "execution_count": 71,
   "metadata": {
    "execution": {
     "iopub.execute_input": "2024-05-18T15:04:44.927679Z",
     "iopub.status.busy": "2024-05-18T15:04:44.927274Z",
     "iopub.status.idle": "2024-05-18T15:04:45.584044Z",
     "shell.execute_reply": "2024-05-18T15:04:45.582820Z",
     "shell.execute_reply.started": "2024-05-18T15:04:44.927651Z"
    }
   },
   "outputs": [
    {
     "name": "stderr",
     "output_type": "stream",
     "text": [
      "/tmp/ipykernel_550/1745372544.py:9: RuntimeWarning: overflow encountered in exp\n",
      "  return 1 / (1 + np.exp(-z))\n"
     ]
    },
    {
     "name": "stdout",
     "output_type": "stream",
     "text": [
      "Accuracy of LogisticRegression: 91.81%\n",
      "Accuracy of KNN: 95.91%\n"
     ]
    }
   ],
   "source": [
    "# Initialize and train the LogisticRegression classifier\n",
    "clf = LogisticRegression()\n",
    "clf.fit(X_train, y_train)\n",
    "\n",
    "# Make predictions\n",
    "y_pred = clf.predict(X_test)\n",
    "\n",
    "# Calculate accuracy\n",
    "accuracy = np.mean(y_test == y_pred)\n",
    "print(f\"Accuracy of LogisticRegression: {accuracy * 100:.2f}%\")\n",
    "######################################################################3\n",
    "\n",
    "# Initialize and train the k-NN classifier\n",
    "knn = KNearestNeighbors(k=10)\n",
    "knn.fit(X_train, y_train)\n",
    "\n",
    "# Make predictions\n",
    "predictions = knn.predict(X_test)\n",
    "\n",
    "# Evaluate accuracy\n",
    "accuracy = np.mean(predictions == y_test)\n",
    "print(f\"Accuracy of KNN: {accuracy * 100:.2f}%\")"
   ]
  },
  {
   "cell_type": "markdown",
   "metadata": {},
   "source": [
    "# Apply Logistic Regression and K-Nearest Neighbors after applying PCA "
   ]
  },
  {
   "cell_type": "code",
   "execution_count": 85,
   "metadata": {
    "execution": {
     "iopub.execute_input": "2024-05-18T15:53:47.980849Z",
     "iopub.status.busy": "2024-05-18T15:53:47.980382Z",
     "iopub.status.idle": "2024-05-18T15:53:47.994117Z",
     "shell.execute_reply": "2024-05-18T15:53:47.992789Z",
     "shell.execute_reply.started": "2024-05-18T15:53:47.980812Z"
    }
   },
   "outputs": [],
   "source": [
    "pca = PCA(n_components=25)\n",
    "pca.fit(X_train)\n",
    "# Train data\n",
    "X_transformed_train = pca.transform(X_train)\n",
    "\n",
    "# Test data\n",
    "X_transformed_test = pca.transform(X_test)"
   ]
  },
  {
   "cell_type": "code",
   "execution_count": 86,
   "metadata": {
    "execution": {
     "iopub.execute_input": "2024-05-18T15:53:49.131365Z",
     "iopub.status.busy": "2024-05-18T15:53:49.130962Z",
     "iopub.status.idle": "2024-05-18T15:53:49.771606Z",
     "shell.execute_reply": "2024-05-18T15:53:49.770574Z",
     "shell.execute_reply.started": "2024-05-18T15:53:49.131336Z"
    }
   },
   "outputs": [
    {
     "name": "stderr",
     "output_type": "stream",
     "text": [
      "/tmp/ipykernel_550/1745372544.py:9: RuntimeWarning: overflow encountered in exp\n",
      "  return 1 / (1 + np.exp(-z))\n"
     ]
    },
    {
     "name": "stdout",
     "output_type": "stream",
     "text": [
      "Accuracy of LogisticRegression: 97.08%\n",
      "Accuracy of KNN: 95.91%\n"
     ]
    }
   ],
   "source": [
    "# Initialize and train the LogisticRegression classifier\n",
    "\n",
    "clf = LogisticRegression()\n",
    "clf.fit(X_transformed_train, y_train)\n",
    "\n",
    "# Make predictions\n",
    "y_pred = clf.predict(X_transformed_test)\n",
    "\n",
    "# Calculate accuracy\n",
    "accuracy = np.mean(y_test == y_pred)\n",
    "\n",
    "print(f\"Accuracy of LogisticRegression: {accuracy * 100:.2f}%\")\n",
    "##########################################################\n",
    "\n",
    "# Initialize and train the k-NN classifier\n",
    "knn = KNearestNeighbors(k=10)\n",
    "knn.fit(X_transformed_train, y_train)\n",
    "\n",
    "# Make predictions\n",
    "predictions = knn.predict(X_transformed_test)\n",
    "\n",
    "# Evaluate accuracy\n",
    "accuracy = np.mean(predictions == y_test)\n",
    "print(f\"Accuracy of KNN: {accuracy * 100:.2f}%\")"
   ]
  },
  {
   "cell_type": "markdown",
   "metadata": {},
   "source": [
    "# Apply Logistic Regression and K-Nearest Neighbors after applying LDA "
   ]
  },
  {
   "cell_type": "code",
   "execution_count": 52,
   "metadata": {
    "execution": {
     "iopub.execute_input": "2024-05-21T12:29:46.033082Z",
     "iopub.status.busy": "2024-05-21T12:29:46.032701Z",
     "iopub.status.idle": "2024-05-21T12:29:46.043888Z",
     "shell.execute_reply": "2024-05-21T12:29:46.042723Z",
     "shell.execute_reply.started": "2024-05-21T12:29:46.033052Z"
    }
   },
   "outputs": [],
   "source": [
    "lda = LDA(n_components=10)\n",
    "\n",
    "# Fit the LDA model on the training data\n",
    "lda.fit(X_train, y_train)\n",
    "\n",
    "# Transform the training data\n",
    "X_transformed_LDA_train = lda.transform(X_train)\n",
    "\n",
    "# Transform the test data\n",
    "X_transformed_LDA_test = lda.transform(X_test)"
   ]
  },
  {
   "cell_type": "code",
   "execution_count": 53,
   "metadata": {
    "execution": {
     "iopub.execute_input": "2024-05-21T12:29:47.259368Z",
     "iopub.status.busy": "2024-05-21T12:29:47.259002Z",
     "iopub.status.idle": "2024-05-21T12:29:47.791591Z",
     "shell.execute_reply": "2024-05-21T12:29:47.790537Z",
     "shell.execute_reply.started": "2024-05-21T12:29:47.259341Z"
    }
   },
   "outputs": [
    {
     "name": "stdout",
     "output_type": "stream",
     "text": [
      "Accuracy of LogisticRegression: 60.82%\n",
      "Accuracy of KNN: 96.49%\n"
     ]
    }
   ],
   "source": [
    "# Initialize and train the LogisticRegression classifier\n",
    "\n",
    "clf = LogisticRegression()\n",
    "clf.fit(X_transformed_LDA_train, y_train)\n",
    "\n",
    "# Make predictions\n",
    "y_pred = clf.predict(X_transformed_LDA_test)\n",
    "\n",
    "# Calculate accuracy\n",
    "accuracy = np.mean(y_test == y_pred)\n",
    "\n",
    "print(f\"Accuracy of LogisticRegression: {accuracy * 100:.2f}%\")\n",
    "##########################################################\n",
    "\n",
    "# Initialize and train the k-NN classifier\n",
    "knn = KNearestNeighbors(k=10)\n",
    "knn.fit(X_transformed_LDA_train, y_train)\n",
    "\n",
    "# Make predictions\n",
    "predictions = knn.predict(X_transformed_LDA_test)\n",
    "\n",
    "# Evaluate accuracy\n",
    "accuracy = np.mean(predictions == y_test)\n",
    "print(f\"Accuracy of KNN: {accuracy * 100:.2f}%\")"
   ]
  },
  {
   "cell_type": "markdown",
   "metadata": {},
   "source": [
    "## Apply Logistic Regression and K-Nearest Neighbors after making feature selection using Genetic Algorithm"
   ]
  },
  {
   "cell_type": "code",
   "execution_count": 81,
   "metadata": {
    "execution": {
     "iopub.execute_input": "2024-05-18T15:23:14.226824Z",
     "iopub.status.busy": "2024-05-18T15:23:14.226431Z",
     "iopub.status.idle": "2024-05-18T15:23:53.539123Z",
     "shell.execute_reply": "2024-05-18T15:23:53.538017Z",
     "shell.execute_reply.started": "2024-05-18T15:23:14.226792Z"
    }
   },
   "outputs": [
    {
     "name": "stderr",
     "output_type": "stream",
     "text": [
      "/tmp/ipykernel_550/1745372544.py:9: RuntimeWarning: overflow encountered in exp\n",
      "  return 1 / (1 + np.exp(-z))\n"
     ]
    },
    {
     "name": "stdout",
     "output_type": "stream",
     "text": [
      "Selected features:  [1 1 1 1 0 0 1 1 1 0 0 1 1 1 1 1 1 1 1 0 1 0 1 1 0 1 0 1 1 1]\n",
      "NO. of Selected features:  22\n",
      "Accuracy of LogisticRegression: 85.96%\n"
     ]
    }
   ],
   "source": [
    "clf = LogisticRegression()\n",
    "\n",
    "ga = GeneticAlgorithmFeatureSelection(X_scaled_train, X_scaled_test, y_train, y_test, classifier=clf, population_size=30, num_generations=30, mutation_rate=0.05)\n",
    "best_features = ga.fit()\n",
    "\n",
    "# Get the selected features\n",
    "X_train_subset = X_scaled_train[:, best_features.astype(bool)]\n",
    "X_test_subset = X_scaled_test[:, best_features.astype(bool)]\n",
    "print(\"Selected features: \", best_features)\n",
    "print(\"NO. of Selected features: \", np.sum(best_features))\n",
    "\n",
    "# Train and evaluate the LogisticRegression on the selected features\n",
    "clf.fit(X_train_subset, y_train)\n",
    "y_pred = clf.predict(X_test_subset)\n",
    "accuracy = np.mean(y_pred == y_test)\n",
    "print(f\"Accuracy of LogisticRegression: {accuracy * 100:.2f}%\")\n"
   ]
  },
  {
   "cell_type": "code",
   "execution_count": 82,
   "metadata": {
    "execution": {
     "iopub.execute_input": "2024-05-18T15:24:18.647133Z",
     "iopub.status.busy": "2024-05-18T15:24:18.646714Z",
     "iopub.status.idle": "2024-05-18T15:32:06.156453Z",
     "shell.execute_reply": "2024-05-18T15:32:06.155206Z",
     "shell.execute_reply.started": "2024-05-18T15:24:18.647101Z"
    }
   },
   "outputs": [
    {
     "name": "stdout",
     "output_type": "stream",
     "text": [
      "Selected features:  [1 1 1 1 0 1 0 0 0 0 1 1 1 1 0 0 0 1 1 0 1 1 1 1 1 1 0 1 0 0]\n",
      "NO. of Selected features:  18\n",
      "Accuracy of KNN: 93.57%\n"
     ]
    }
   ],
   "source": [
    "clf = KNearestNeighbors(k=10)\n",
    "\n",
    "ga = GeneticAlgorithmFeatureSelection(X_scaled_train, X_scaled_test, y_train, y_test, classifier=clf, population_size=30, num_generations=30, mutation_rate=0.05)\n",
    "best_features = ga.fit()\n",
    "\n",
    "# Get the selected features\n",
    "X_train_subset = X_scaled_train[:, best_features.astype(bool)]\n",
    "X_test_subset = X_scaled_test[:, best_features.astype(bool)]\n",
    "print(\"Selected features: \", best_features)\n",
    "print(\"NO. of Selected features: \", np.sum(best_features))\n",
    "# Train and evaluate the K-Nearest Neighbors on the selected features\n",
    "clf.fit(X_train_subset, y_train)\n",
    "y_pred = clf.predict(X_test_subset)\n",
    "accuracy = np.mean(y_pred == y_test)\n",
    "\n",
    "print(f\"Accuracy of KNN: {accuracy * 100:.2f}%\")"
   ]
  }
 ],
 "metadata": {
  "kaggle": {
   "accelerator": "none",
   "dataSources": [
    {
     "datasetId": 3032092,
     "sourceId": 5212576,
     "sourceType": "datasetVersion"
    }
   ],
   "dockerImageVersionId": 30698,
   "isGpuEnabled": false,
   "isInternetEnabled": true,
   "language": "python",
   "sourceType": "notebook"
  },
  "kernelspec": {
   "display_name": "Python 3 (ipykernel)",
   "language": "python",
   "name": "python3"
  },
  "language_info": {
   "codemirror_mode": {
    "name": "ipython",
    "version": 3
   },
   "file_extension": ".py",
   "mimetype": "text/x-python",
   "name": "python",
   "nbconvert_exporter": "python",
   "pygments_lexer": "ipython3",
   "version": "3.11.4"
  }
 },
 "nbformat": 4,
 "nbformat_minor": 4
}
